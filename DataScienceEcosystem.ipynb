{
 "cells": [
  {
   "cell_type": "markdown",
   "id": "dc11878e-c672-4bf3-982f-1cef3f69a947",
   "metadata": {},
   "source": [
    "# Data Science Tools and Ecosystem"
   ]
  },
  {
   "cell_type": "markdown",
   "id": "4e0937a6-82a9-4484-9460-8d93ff88129b",
   "metadata": {},
   "source": [
    "In this notebook, Data Science Tools and Ecosystem are summarized.\r\n",
    "\r\n"
   ]
  },
  {
   "cell_type": "markdown",
   "id": "a22927c3-88fb-4007-af7b-a1dfde6d44ea",
   "metadata": {},
   "source": [
    "**Objectives**\n",
    "- List popular languages for Data Science\n",
    "- List commonly used libraries for Data Science\n",
    "- List Data Science Tools"
   ]
  },
  {
   "cell_type": "markdown",
   "id": "a710f913-8529-4666-a85b-487a992b855f",
   "metadata": {},
   "source": [
    "## Author\n",
    "Micah"
   ]
  },
  {
   "cell_type": "markdown",
   "id": "2ed3af37-41c8-4d87-9f34-4c7ce98bac94",
   "metadata": {},
   "source": [
    "Some of the popular languages that Data Scientists use are:\n",
    "1. R\n",
    "2. Python\n",
    "3. Java\r\n"
   ]
  },
  {
   "cell_type": "markdown",
   "id": "f466a7bf-a6a5-4983-b2a1-5b7886f874a6",
   "metadata": {},
   "source": [
    "Some of the commonly used libraries used by Data Scientists include:\r",
    "1. pandas\n",
    "2. matplotlib\n",
    "3. seaborn\n"
   ]
  },
  {
   "cell_type": "markdown",
   "id": "d72efd8d-f503-4370-9246-c690b391ab84",
   "metadata": {},
   "source": [
    "| Data Science Tools |\n",
    "|--------------------|\n",
    "| Jupyter Notebook |\n",
    "| Visual Studio Code |\n",
    "| Git |"
   ]
  },
  {
   "cell_type": "markdown",
   "id": "15639b22-6422-4a06-bebf-db1cc57c38eb",
   "metadata": {},
   "source": [
    "### Below are a few examples of evaluating arithmetic expressions in Python.\r\n"
   ]
  },
  {
   "cell_type": "code",
   "execution_count": 28,
   "id": "d08967d2-4fb7-43d5-b504-45b09226a898",
   "metadata": {},
   "outputs": [
    {
     "data": {
      "text/plain": [
       "17"
      ]
     },
     "execution_count": 28,
     "metadata": {},
     "output_type": "execute_result"
    }
   ],
   "source": [
    "# This a simple arithmetic expression to mutiply then add integers\n",
    "(3*4)+5"
   ]
  },
  {
   "cell_type": "code",
   "execution_count": 30,
   "id": "f617c41f-899f-4dcd-b253-f871ba75203d",
   "metadata": {},
   "outputs": [
    {
     "data": {
      "text/plain": [
       "3.3333333333333335"
      ]
     },
     "execution_count": 30,
     "metadata": {},
     "output_type": "execute_result"
    }
   ],
   "source": [
    "# This will convert 200 minutes to hours by diving by 60\n",
    "200 / 60"
   ]
  }
 ],
 "metadata": {
  "kernelspec": {
   "display_name": "Python 3 (ipykernel)",
   "language": "python",
   "name": "python3"
  },
  "language_info": {
   "codemirror_mode": {
    "name": "ipython",
    "version": 3
   },
   "file_extension": ".py",
   "mimetype": "text/x-python",
   "name": "python",
   "nbconvert_exporter": "python",
   "pygments_lexer": "ipython3",
   "version": "3.12.4"
  }
 },
 "nbformat": 4,
 "nbformat_minor": 5
}
